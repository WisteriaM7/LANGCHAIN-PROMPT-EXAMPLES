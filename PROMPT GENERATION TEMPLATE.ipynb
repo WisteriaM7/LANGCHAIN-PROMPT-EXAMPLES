{
 "cells": [
  {
   "cell_type": "code",
   "execution_count": 8,
   "id": "e606bfa4-19df-46cb-9f8d-211f525ffa22",
   "metadata": {},
   "outputs": [
    {
     "name": "stdout",
     "output_type": "stream",
     "text": [
      " In assembly language, hexadecimal is used for representing numbers. It can be represented as a series of pairs: 0x (hexadecimal prefix) followed by two digits to represent the number. For example, \"0x41\" means the number 97 in decimal and \"0xe3\" represents the number 251 in hexadecimal.\n",
      "\n",
      "The hexadecimal representation of a single digit is simply represented as \"0X\". The prefix \"0x\" is used to indicate that we are representing a hexadecimal number. If you see \"41\", it means it's the fourth one (since there are 16 in total). It's like saying \"hello\" written in 16 characters.\n",
      "\n",
      "In assembly, we use hexadecimal instead of decimal because it's much easier to read and write. For example, when we have a variable name that requires a prefix, we simply write it as \"0x\". This makes the code more readable.\n"
     ]
    }
   ],
   "source": [
    "import os\n",
    "\n",
    "from langchain_community.llms import ollama\n",
    "from langchain.prompts import PromptTemplate\n",
    "\n",
    "model = ollama.Ollama(\n",
    "    base_url='http://localhost:11434/', \n",
    "    model='tinydolphin',\n",
    ")\n",
    "\n",
    "prompt_template = PromptTemplate.from_template(\n",
    "    \"Explain the programming concept of {what} in {language}.\"\n",
    ")\n",
    "prompt = prompt_template.format(what=\"hexadecimal\", language=\"assembly language\")\n",
    "\n",
    "completion = model.invoke(prompt)\n",
    "\n",
    "print(completion)"
   ]
  },
  {
   "cell_type": "code",
   "execution_count": 7,
   "id": "558a55fa-4fb5-4b0d-88e3-47d0c0b043ae",
   "metadata": {},
   "outputs": [
    {
     "name": "stdout",
     "output_type": "stream",
     "text": [
      " In Java, strings are sequences of characters and are an integral part of the programming language. They can be created by assigning values to individual variables, or they can be declared using the `String` keyword. \n",
      "\n",
      "Here is a simple code snippet that creates two different strings:\n",
      "\n",
      "```java\n",
      "String first = \"Hello\";\n",
      "String second = \"World!\";\n",
      "System.out.println(\"First string: \" + first);\n",
      "System.out.println(\"Second string: \" + second);\n",
      "```\n",
      "The `first` and `second` variables will hold the values of the strings, which are \"Hello\" and \"World!\", respectively. The `System.out.println()` statements print these values to the console.\n"
     ]
    }
   ],
   "source": [
    "import os\n",
    "\n",
    "from langchain_community.llms import ollama\n",
    "from langchain.prompts import PromptTemplate\n",
    "from langchain_core.output_parsers import StrOutputParser\n",
    "\n",
    "model = ollama.Ollama(\n",
    "    base_url='http://localhost:11434/', \n",
    "    model='tinydolphin',\n",
    ")\n",
    "\n",
    "what = \"strings\"\n",
    "language = \"Java\"\n",
    "\n",
    "# Prompt template\n",
    "prompt = PromptTemplate.from_template(\n",
    "    \"Explain the programming concept of {what} in {language}.\"\n",
    ")\n",
    "\n",
    "# Chain using model and formatting          \n",
    "chain = prompt | model | StrOutputParser()    \n",
    "\n",
    "response = chain.invoke({\"what\": what, \"language\": language})  \n",
    "\n",
    "print(response)"
   ]
  },
  {
   "cell_type": "code",
   "execution_count": 18,
   "id": "ae92e3f3-3bd6-4c47-adf0-14393638e113",
   "metadata": {},
   "outputs": [],
   "source": [
    "from langchain.prompts import ChatPromptTemplate\n",
    "from langchain_core.messages import HumanMessage\n",
    "from langchain_ollama.llms import OllamaLLM\n",
    "import requests"
   ]
  },
  {
   "cell_type": "code",
   "execution_count": 20,
   "id": "30dd265c-cd5a-44ae-837d-d6ded458b6a8",
   "metadata": {},
   "outputs": [
    {
     "name": "stdout",
     "output_type": "stream",
     "text": [
      "-----Prompt from Template-----\n",
      "messages=[HumanMessage(content='Tell me a joke about dogs.', additional_kwargs={}, response_metadata={})]\n",
      "Why did the dog go to the vet?\n",
      "\n",
      "Because he was feeling ruff! *wagging virtual tail*\n"
     ]
    }
   ],
   "source": [
    "#Creating a Chat Prompt Template with a Single Placeholder\n",
    "model = OllamaLLM(model=\"llama3.1\")\n",
    "\n",
    "template = \"Tell me a joke about {topic}.\"\n",
    "prompt_template = ChatPromptTemplate.from_template(template)\n",
    "\n",
    "print(\"-----Prompt from Template-----\")\n",
    "prompt = prompt_template.invoke({\"topic\": \"dogs\"})\n",
    "result = model.invoke(prompt)\n",
    "print(prompt)\n",
    "print(result)"
   ]
  },
  {
   "cell_type": "code",
   "execution_count": 22,
   "id": "7b869731-c02e-4788-88cd-3909e87d7c0f",
   "metadata": {},
   "outputs": [
    {
     "name": "stdout",
     "output_type": "stream",
     "text": [
      "\n",
      "----- Prompt with Multiple Placeholders -----\n",
      "\n",
      "messages=[HumanMessage(content='You are a helpful assistant.\\nHuman: Tell me a funny story about a panda.\\nAssistant:', additional_kwargs={}, response_metadata={})]\n",
      "Here's one:\n",
      "\n",
      "One day, at the Chengdu Research Base in China, a mischievous panda named Ping decided to sneak into the kitchen of his enclosure. He spotted a big basket of juicy bamboo shoots and couldn't resist the temptation.\n",
      "\n",
      "As he munched away on the treats, Ping didn't notice that his favorite snack had been mixed with an extra ingredient: chili peppers!\n",
      "\n",
      "At first, Ping was oblivious to the spiciness, but soon he started to feel the heat. His cute panda face turned bright red, and he began to sweat... or at least, as much as a panda can sweat.\n",
      "\n",
      "Ping stumbled around the enclosure, his paws waving wildly in the air, while making loud \"Bwaaah!\" noises. The other pandas looked on in confusion, wondering what all the commotion was about.\n",
      "\n",
      "Finally, Ping collapsed onto a nearby patch of grass, panting and pawing at his mouth. His keeper rushed over to him, laughing, and said, \"Ping, you silly panda! You've gone from gentle giant to spicy sensation!\"\n",
      "\n",
      "From that day on, Ping earned the nickname \"The Panda Pepper\" – but he still loved his bamboo shoots... just without the chili peppers, of course!\n"
     ]
    }
   ],
   "source": [
    "#Creating a Prompt with Multiple Placeholders\n",
    "model = OllamaLLM(model=\"llama3.1\")\n",
    "\n",
    "template_multiple = \"\"\"You are a helpful assistant.\n",
    "Human: Tell me a {adjective} story about a {animal}.\n",
    "Assistant:\"\"\"\n",
    "prompt_multiple = ChatPromptTemplate.from_template(template_multiple)\n",
    "prompt = prompt_multiple.invoke({\"adjective\": \"funny\", \"animal\": \"panda\"})\n",
    "result = model.invoke(prompt)\n",
    "\n",
    "print(\"\\n----- Prompt with Multiple Placeholders -----\\n\")\n",
    "print(prompt)\n",
    "print(result)"
   ]
  },
  {
   "cell_type": "code",
   "execution_count": 23,
   "id": "a104dd26-450d-4b0e-9c31-e6503e63002f",
   "metadata": {},
   "outputs": [
    {
     "name": "stdout",
     "output_type": "stream",
     "text": [
      "\n",
      "----- Prompt with System and Human Messages (Tuple) -----\n",
      "\n",
      "messages=[SystemMessage(content='You are a comedian who tells jokes about lawyers.', additional_kwargs={}, response_metadata={}), HumanMessage(content='Tell me 3 jokes.', additional_kwargs={}, response_metadata={})]\n",
      "Lawyers! They're like a box of chocolates – you never know when they'll sue you for eating the last one! (ba-dum-tss)\n",
      "\n",
      "Here's another one: Why did the lawyer's cat join a band? Because it wanted to be a purr-cussionist, and also because it was sick of being used as an example in trial!\n",
      "\n",
      "And here's my favorite: What do you call a group of lawyers playing instruments? An \"appeal\"ing orchestra – get it? They're always appealing their decisions, and now they're appealing to the audience with their music! (laughs)\n"
     ]
    }
   ],
   "source": [
    "#Creating Prompts with System and Human Messages Using Tuples\n",
    "model = OllamaLLM(model=\"llama3.1\")\n",
    "\n",
    "messages = [\n",
    "    (\"system\", \"You are a comedian who tells jokes about {topic}.\"),\n",
    "    (\"human\", \"Tell me {joke_count} jokes.\"),\n",
    "]\n",
    "prompt_template = ChatPromptTemplate.from_messages(messages)\n",
    "prompt = prompt_template.invoke({\"topic\": \"lawyers\", \"joke_count\": 3})\n",
    "result = model.invoke(prompt)\n",
    "\n",
    "print(\"\\n----- Prompt with System and Human Messages (Tuple) -----\\n\")\n",
    "print(prompt)\n",
    "print(result)"
   ]
  },
  {
   "cell_type": "code",
   "execution_count": 24,
   "id": "f487018d-ac61-4c0a-b553-ba766a55f7c2",
   "metadata": {},
   "outputs": [
    {
     "name": "stdout",
     "output_type": "stream",
     "text": [
      "\n",
      "----- Prompt with System and Human Messages (Tuple) -----\n",
      "\n",
      "messages=[SystemMessage(content='You are a comedian who tells jokes about lawyers.', additional_kwargs={}, response_metadata={}), HumanMessage(content='Tell me 3 jokes.', additional_kwargs={}, response_metadata={})]\n",
      "Here we go! Lawyers, the gift that keeps on giving... (wink)\n",
      "\n",
      "1. Why did the lawyer's wife leave him? Because he was always trying to settle their differences in court! Get it? Settle... (chuckles)\n",
      "2. What do you call a lawyer who does not care about winning his cases? A public servant!\n",
      "3. Why did the lawyer bring a ladder to the courtroom? He wanted to take his case to a higher level! Ba-dum-tss!\n",
      "\n",
      "How's that, folks? Did I make you LOL or just groan at the puns?\n"
     ]
    }
   ],
   "source": [
    "#Creating Prompts with System and Human Messages Using Tuples with a static human message\n",
    "model = OllamaLLM(model=\"llama3.1\")\n",
    "\n",
    "messages = [\n",
    "    (\"system\", \"You are a comedian who tells jokes about {topic}.\"),\n",
    "    HumanMessage(content=\"Tell me 3 jokes.\"),\n",
    "]\n",
    "prompt_template = ChatPromptTemplate.from_messages(messages)\n",
    "prompt = prompt_template.invoke({\"topic\": \"lawyers\"})\n",
    "result = model.invoke(prompt)\n",
    "\n",
    "print(\"\\n----- Prompt with System and Human Messages (Tuple) -----\\n\")\n",
    "print(prompt)\n",
    "print(result)"
   ]
  },
  {
   "cell_type": "code",
   "execution_count": 26,
   "id": "a4a7fa66-3b2f-499f-97e2-09069c4ad930",
   "metadata": {},
   "outputs": [
    {
     "data": {
      "text/plain": [
       "'To answer that question, let\\'s break it down step by step:\\n\\n1. **What is an Avenger?**: In the context of comic books and popular culture, \"Avengers\" refers to a team of superheroes who come together to protect the world from various threats.\\n\\n2. **Who are the Superheroes in the Avengers?**: The original Avengers include Iron Man (Tony Stark), Captain America, Thor, Hulk, Black Widow, and Hawkeye. However, over the years, more members have joined, including other notable heroes like Scarlet Witch, Vision, Falcon, Winter Soldier, Black Panther, Spider-Man, Doctor Strange, and many others.\\n\\n3. **What\\'s Their Purpose?**: The Avengers are not just a team of superheroes; they represent unity against threats that are too great for any one hero to handle alone. They often face challenges that include alien invasions (such as from the Chitauri in \"The Avengers\" movie), magical threats, and more.\\n\\n4. **Is it a Franchise or Just a Comic Book Series?**: The term \"Avengers\" has evolved beyond just comic books. It\\'s also the name of several movies where these characters come together to save the world from various threats. This franchise includes films like \"The Avengers,\" \"Avengers: Age of Ultron,\" \"Captain America: Civil War,\" and \"Avengers: Endgame.\"\\n\\n5. **Why Are They Important?**: The Avengers represent not just a team but also the idea of teamwork, camaraderie, and heroism in the face of overwhelming odds. They symbolize that together, people can overcome even the most daunting challenges.\\n\\nIn summary, the Avengers are a diverse group of superheroes who come together to protect the world from threats too great for any one hero to handle alone, embodying the ideals of teamwork, unity, and selfless heroism.'"
      ]
     },
     "execution_count": 26,
     "metadata": {},
     "output_type": "execute_result"
    }
   ],
   "source": [
    "from langchain_core.prompts import ChatPromptTemplate\n",
    "from langchain_ollama.llms import OllamaLLM\n",
    "\n",
    "template = \"\"\"Question: {question}\n",
    "\n",
    "Answer: Let's think step by step.\"\"\"\n",
    "\n",
    "prompt = ChatPromptTemplate.from_template(template)\n",
    "\n",
    "model = OllamaLLM(model=\"llama3.1\")\n",
    "\n",
    "chain = prompt | model\n",
    "\n",
    "chain.invoke({\"question\": \"Who are Avengers?\"})"
   ]
  },
  {
   "cell_type": "code",
   "execution_count": null,
   "id": "8f1e5e96-d4c5-4d27-8790-c38ca417606c",
   "metadata": {},
   "outputs": [],
   "source": []
  }
 ],
 "metadata": {
  "kernelspec": {
   "display_name": "Python 3 (ipykernel)",
   "language": "python",
   "name": "python3"
  },
  "language_info": {
   "codemirror_mode": {
    "name": "ipython",
    "version": 3
   },
   "file_extension": ".py",
   "mimetype": "text/x-python",
   "name": "python",
   "nbconvert_exporter": "python",
   "pygments_lexer": "ipython3",
   "version": "3.13.4"
  }
 },
 "nbformat": 4,
 "nbformat_minor": 5
}
