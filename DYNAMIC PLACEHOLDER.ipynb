{
 "cells": [
  {
   "cell_type": "code",
   "execution_count": 5,
   "id": "ab168284-d07e-443f-9b1c-7040b72e5b36",
   "metadata": {},
   "outputs": [
    {
     "name": "stdout",
     "output_type": "stream",
     "text": [
      "\n",
      "----- Prompt with Advanced Dynamic Placeholders -----\n",
      "\n",
      "messages=[SystemMessage(content='You are a comedian who specializes in anime parody and absurd humor. Your job is to entertain and educate.', additional_kwargs={}, response_metadata={}), HumanMessage(content='Can you give me 3 satirical jokes about overcaffeinated ninja baristas from a slice-of-life anime? Keep it quirky and fast-paced.', additional_kwargs={}, response_metadata={})]\n",
      "\n",
      "----- Result -----\n",
      "\n",
      "Let's get this caffeine-fueled comedy started!\n",
      "\n",
      "Here are three satirical jokes about those über-caffeinated ninja baristas:\n",
      "\n",
      "1. \"Why did the overcaffeinated ninja barista bring a sword to work? In case a customer ordered a decaf, and they had to 'cut' them off!\"\n",
      "2. \"What do you call an overcaffeinated ninja barista who's also a master of disguise? A latte-zy... I mean, Latte-zyu (get it? Like Rurouni Kenshin, but with lattes?) Ahh, nevermind! Just order your coffee before they 'stealth-brew' it!\"\n",
      "3. \"Why did the ninja barista quit their job at the coffee shop? Because they were constantly getting 'buzzed' by their coworkers and couldn't keep up with the 'latte pressure' anymore... now they're just a 'tea-rior' on the streets, taking down coffee beans one cup at a time!\"\n",
      "\n",
      "How's that? Did I manage to \"brew\" some laughs out of you?\n",
      "\n",
      "Would you like more jokes about overcaffeinated ninja baristas or perhaps other anime parody topics?\n"
     ]
    }
   ],
   "source": [
    "from langchain_core.prompts import ChatPromptTemplate\n",
    "from langchain_core.messages import HumanMessage\n",
    "from langchain_ollama.llms import OllamaLLM\n",
    "\n",
    "# Initialize model\n",
    "model = OllamaLLM(model=\"llama3.1\")\n",
    "\n",
    "# Define dynamic prompt template\n",
    "messages = [\n",
    "    (\"system\", \"You are a {role} who specializes in {specialty}. Your job is to entertain and educate.\"),\n",
    "    (\"human\", \"Can you give me {number} {genre} jokes about {topic}? Keep it {tone}.\")\n",
    "]\n",
    "\n",
    "# Create the template\n",
    "prompt_template = ChatPromptTemplate.from_messages(messages)\n",
    "\n",
    "# Define input variables\n",
    "input_vars = {\n",
    "    \"role\": \"comedian\",\n",
    "    \"specialty\": \"anime parody and absurd humor\",\n",
    "    \"number\": 3,\n",
    "    \"genre\": \"satirical\",\n",
    "    \"topic\": \"overcaffeinated ninja baristas from a slice-of-life anime\",\n",
    "    \"tone\": \"quirky and fast-paced\"\n",
    "}\n",
    "\n",
    "# Generate prompt\n",
    "prompt = prompt_template.invoke(input_vars)\n",
    "\n",
    "# Invoke the model\n",
    "result = model.invoke(prompt)\n",
    "\n",
    "# Output\n",
    "print(\"\\n----- Prompt with Advanced Dynamic Placeholders -----\\n\")\n",
    "print(prompt)\n",
    "print(\"\\n----- Result -----\\n\")\n",
    "print(result)"
   ]
  },
  {
   "cell_type": "code",
   "execution_count": null,
   "id": "f448457e-30a7-4dff-95bf-006da2e3ce7d",
   "metadata": {},
   "outputs": [],
   "source": []
  },
  {
   "cell_type": "code",
   "execution_count": null,
   "id": "5c6b69cb-d853-4d8f-a2b2-aababf29f16a",
   "metadata": {},
   "outputs": [],
   "source": []
  }
 ],
 "metadata": {
  "kernelspec": {
   "display_name": "Python 3 (ipykernel)",
   "language": "python",
   "name": "python3"
  },
  "language_info": {
   "codemirror_mode": {
    "name": "ipython",
    "version": 3
   },
   "file_extension": ".py",
   "mimetype": "text/x-python",
   "name": "python",
   "nbconvert_exporter": "python",
   "pygments_lexer": "ipython3",
   "version": "3.13.4"
  }
 },
 "nbformat": 4,
 "nbformat_minor": 5
}
